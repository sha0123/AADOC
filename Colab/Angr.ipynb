{
  "nbformat": 4,
  "nbformat_minor": 0,
  "metadata": {
    "colab": {
      "name": "Untitled0.ipynb",
      "provenance": [],
      "authorship_tag": "ABX9TyO+svJ3XCuBV/Hchc97WxCB",
      "include_colab_link": true
    },
    "kernelspec": {
      "name": "python3",
      "display_name": "Python 3"
    },
    "language_info": {
      "name": "python"
    }
  },
  "cells": [
    {
      "cell_type": "markdown",
      "metadata": {
        "id": "view-in-github",
        "colab_type": "text"
      },
      "source": [
        "<a href=\"https://colab.research.google.com/github/sha0123/AADOC/blob/main/Colab/Angr.ipynb\" target=\"_parent\"><img src=\"https://colab.research.google.com/assets/colab-badge.svg\" alt=\"Open In Colab\"/></a>"
      ]
    },
    {
      "cell_type": "code",
      "metadata": {
        "colab": {
          "base_uri": "https://localhost:8080/"
        },
        "id": "O7U4R9h4qO_l",
        "outputId": "8bfccf32-518d-4b07-e51b-55cbeca228ad"
      },
      "source": [
        "pip install angr"
      ],
      "execution_count": null,
      "outputs": [
        {
          "output_type": "stream",
          "name": "stdout",
          "text": [
            "Collecting angr\n",
            "  Downloading angr-9.0.10072-py3-none-manylinux1_x86_64.whl (2.3 MB)\n",
            "\u001b[K     |████████████████████████████████| 2.3 MB 11.6 MB/s \n",
            "\u001b[?25hCollecting CppHeaderParser\n",
            "  Downloading CppHeaderParser-2.7.4.tar.gz (54 kB)\n",
            "\u001b[K     |████████████████████████████████| 54 kB 2.3 MB/s \n",
            "\u001b[?25hCollecting rpyc\n",
            "  Downloading rpyc-5.0.1-py3-none-any.whl (68 kB)\n",
            "\u001b[K     |████████████████████████████████| 68 kB 6.0 MB/s \n",
            "\u001b[?25hCollecting ailment==9.0.10072\n",
            "  Downloading ailment-9.0.10072-py3-none-any.whl (19 kB)\n",
            "Requirement already satisfied: progressbar2 in /usr/local/lib/python3.7/dist-packages (from angr) (3.38.0)\n",
            "Collecting dpkt\n",
            "  Downloading dpkt-1.9.7.2-py3-none-any.whl (181 kB)\n",
            "\u001b[K     |████████████████████████████████| 181 kB 83.7 MB/s \n",
            "\u001b[?25hRequirement already satisfied: psutil in /usr/local/lib/python3.7/dist-packages (from angr) (5.4.8)\n",
            "Collecting itanium-demangler\n",
            "  Downloading itanium_demangler-1.0.tar.gz (6.9 kB)\n",
            "Collecting nampa\n",
            "  Downloading nampa-0.1.1-py2.py3-none-any.whl (9.2 kB)\n",
            "Collecting GitPython\n",
            "  Downloading GitPython-3.1.24-py3-none-any.whl (180 kB)\n",
            "\u001b[K     |████████████████████████████████| 180 kB 81.5 MB/s \n",
            "\u001b[?25hCollecting unicorn==1.0.2rc4\n",
            "  Downloading unicorn-1.0.2rc4-py2.py3-none-manylinux1_x86_64.whl (8.1 MB)\n",
            "\u001b[K     |████████████████████████████████| 8.1 MB 64.1 MB/s \n",
            "\u001b[?25hRequirement already satisfied: cachetools in /usr/local/lib/python3.7/dist-packages (from angr) (4.2.4)\n",
            "Collecting pyvex==9.0.10072\n",
            "  Downloading pyvex-9.0.10072-py3-none-manylinux1_x86_64.whl (2.9 MB)\n",
            "\u001b[K     |████████████████████████████████| 2.9 MB 59.2 MB/s \n",
            "\u001b[?25hCollecting archinfo==9.0.10072\n",
            "  Downloading archinfo-9.0.10072-py3-none-any.whl (56 kB)\n",
            "\u001b[K     |████████████████████████████████| 56 kB 3.7 MB/s \n",
            "\u001b[?25hRequirement already satisfied: sortedcontainers in /usr/local/lib/python3.7/dist-packages (from angr) (2.4.0)\n",
            "Collecting mulpyplexer\n",
            "  Downloading mulpyplexer-0.09.tar.gz (2.8 kB)\n",
            "Collecting capstone>=3.0.5rc2\n",
            "  Downloading capstone-4.0.2-py2.py3-none-manylinux1_x86_64.whl (2.1 MB)\n",
            "\u001b[K     |████████████████████████████████| 2.1 MB 60.5 MB/s \n",
            "\u001b[?25hRequirement already satisfied: protobuf>=3.12.0 in /usr/local/lib/python3.7/dist-packages (from angr) (3.17.3)\n",
            "Collecting cle==9.0.10072\n",
            "  Downloading cle-9.0.10072-py3-none-any.whl (147 kB)\n",
            "\u001b[K     |████████████████████████████████| 147 kB 71.7 MB/s \n",
            "\u001b[?25hRequirement already satisfied: networkx>=2.0 in /usr/local/lib/python3.7/dist-packages (from angr) (2.6.3)\n",
            "Collecting claripy==9.0.10072\n",
            "  Downloading claripy-9.0.10072-py3-none-any.whl (154 kB)\n",
            "\u001b[K     |████████████████████████████████| 154 kB 92.1 MB/s \n",
            "\u001b[?25hRequirement already satisfied: pycparser>=2.18 in /usr/local/lib/python3.7/dist-packages (from angr) (2.20)\n",
            "Requirement already satisfied: cffi>=1.14.0 in /usr/local/lib/python3.7/dist-packages (from angr) (1.14.6)\n",
            "Collecting pysmt>=0.9.1.dev119\n",
            "  Downloading PySMT-0.9.1.dev139-py2.py3-none-any.whl (317 kB)\n",
            "\u001b[K     |████████████████████████████████| 317 kB 89.0 MB/s \n",
            "\u001b[?25hCollecting z3-solver>=4.8.5.0\n",
            "  Downloading z3_solver-4.8.12.0-py2.py3-none-manylinux1_x86_64.whl (33.0 MB)\n",
            "\u001b[K     |████████████████████████████████| 33.0 MB 19 kB/s \n",
            "\u001b[?25hRequirement already satisfied: future in /usr/local/lib/python3.7/dist-packages (from claripy==9.0.10072->angr) (0.16.0)\n",
            "Requirement already satisfied: decorator in /usr/local/lib/python3.7/dist-packages (from claripy==9.0.10072->angr) (4.4.2)\n",
            "Collecting pefile\n",
            "  Downloading pefile-2021.9.3.tar.gz (72 kB)\n",
            "\u001b[K     |████████████████████████████████| 72 kB 613 kB/s \n",
            "\u001b[?25hCollecting pyelftools>=0.27\n",
            "  Downloading pyelftools-0.27-py2.py3-none-any.whl (151 kB)\n",
            "\u001b[K     |████████████████████████████████| 151 kB 65.3 MB/s \n",
            "\u001b[?25hCollecting bitstring\n",
            "  Downloading bitstring-3.1.9-py3-none-any.whl (38 kB)\n",
            "Requirement already satisfied: six>=1.9 in /usr/local/lib/python3.7/dist-packages (from protobuf>=3.12.0->angr) (1.15.0)\n",
            "Collecting ply\n",
            "  Downloading ply-3.11-py2.py3-none-any.whl (49 kB)\n",
            "\u001b[K     |████████████████████████████████| 49 kB 5.4 MB/s \n",
            "\u001b[?25hCollecting gitdb<5,>=4.0.1\n",
            "  Downloading gitdb-4.0.7-py3-none-any.whl (63 kB)\n",
            "\u001b[K     |████████████████████████████████| 63 kB 1.6 MB/s \n",
            "\u001b[?25hRequirement already satisfied: typing-extensions>=3.7.4.3 in /usr/local/lib/python3.7/dist-packages (from GitPython->angr) (3.7.4.3)\n",
            "Collecting smmap<5,>=3.0.1\n",
            "  Downloading smmap-4.0.0-py2.py3-none-any.whl (24 kB)\n",
            "Requirement already satisfied: python-utils>=2.3.0 in /usr/local/lib/python3.7/dist-packages (from progressbar2->angr) (2.5.6)\n",
            "Collecting plumbum\n",
            "  Downloading plumbum-1.7.0-py2.py3-none-any.whl (116 kB)\n",
            "\u001b[K     |████████████████████████████████| 116 kB 69.6 MB/s \n",
            "\u001b[?25hBuilding wheels for collected packages: CppHeaderParser, itanium-demangler, mulpyplexer, pefile\n",
            "  Building wheel for CppHeaderParser (setup.py) ... \u001b[?25l\u001b[?25hdone\n",
            "  Created wheel for CppHeaderParser: filename=CppHeaderParser-2.7.4-py3-none-any.whl size=44977 sha256=6d00fb471d58b9a7b12230c7ab67b4163eff8135e166c7a15dec275a0e343c66\n",
            "  Stored in directory: /root/.cache/pip/wheels/84/c8/fe/59e29c5a1086aa96a044d3bf6aa7c3facff5fdf47999bbb04d\n",
            "  Building wheel for itanium-demangler (setup.py) ... \u001b[?25l\u001b[?25hdone\n",
            "  Created wheel for itanium-demangler: filename=itanium_demangler-1.0-py3-none-any.whl size=7288 sha256=27134b6bbee17afb711e10bc187856785a47fbc77845ae7a6bac942fa9c34ca4\n",
            "  Stored in directory: /root/.cache/pip/wheels/df/c5/38/68a43dd42852dc0de07bd8e26dca0086a0a5fb9ca9f209eeea\n",
            "  Building wheel for mulpyplexer (setup.py) ... \u001b[?25l\u001b[?25hdone\n",
            "  Created wheel for mulpyplexer: filename=mulpyplexer-0.9-py3-none-any.whl size=3802 sha256=a24653a81f0d26cd7d3e18b5c2c5e8a26a15c7c500ce3391318a4ed2c76d389a\n",
            "  Stored in directory: /root/.cache/pip/wheels/fe/f1/00/f3092247fe5e4cc0098e2b5d314e54636edc2d6f92a8d8d6d1\n",
            "  Building wheel for pefile (setup.py) ... \u001b[?25l\u001b[?25hdone\n",
            "  Created wheel for pefile: filename=pefile-2021.9.3-py3-none-any.whl size=68844 sha256=f7fb239ac7475625b2a36f32f3eefb9357f358581ad619bacef766f8089f14b7\n",
            "  Stored in directory: /root/.cache/pip/wheels/50/be/9b/d19a6151b9c6e303f823faedf03193d7e90dac4009a0bdafeb\n",
            "Successfully built CppHeaderParser itanium-demangler mulpyplexer pefile\n",
            "Installing collected packages: smmap, bitstring, archinfo, z3-solver, pyvex, pysmt, pyelftools, ply, plumbum, pefile, gitdb, unicorn, rpyc, nampa, mulpyplexer, itanium-demangler, GitPython, dpkt, CppHeaderParser, cle, claripy, capstone, ailment, angr\n",
            "Successfully installed CppHeaderParser-2.7.4 GitPython-3.1.24 ailment-9.0.10072 angr-9.0.10072 archinfo-9.0.10072 bitstring-3.1.9 capstone-4.0.2 claripy-9.0.10072 cle-9.0.10072 dpkt-1.9.7.2 gitdb-4.0.7 itanium-demangler-1.0 mulpyplexer-0.9 nampa-0.1.1 pefile-2021.9.3 plumbum-1.7.0 ply-3.11 pyelftools-0.27 pysmt-0.9.1.dev139 pyvex-9.0.10072 rpyc-5.0.1 smmap-4.0.0 unicorn-1.0.2rc4 z3-solver-4.8.12.0\n"
          ]
        }
      ]
    },
    {
      "cell_type": "markdown",
      "metadata": {
        "id": "AJUmLjwrrJAp"
      },
      "source": [
        "!git clone https://github.com/angr/angr-doc"
      ]
    },
    {
      "cell_type": "code",
      "metadata": {
        "colab": {
          "base_uri": "https://localhost:8080/"
        },
        "id": "uV04L0fBrbl3",
        "outputId": "9d11c8bc-4343-40e2-eeb2-0e49b19502d4"
      },
      "source": [
        "ls"
      ],
      "execution_count": null,
      "outputs": [
        {
          "output_type": "stream",
          "name": "stdout",
          "text": [
            "\u001b[0m\u001b[01;34mangr-doc\u001b[0m/  \u001b[01;34msample_data\u001b[0m/\n"
          ]
        }
      ]
    },
    {
      "cell_type": "code",
      "metadata": {
        "colab": {
          "base_uri": "https://localhost:8080/"
        },
        "id": "yBCiqPFHrm-M",
        "outputId": "40226ab2-4d1d-43ae-caff-c56ecc923b34"
      },
      "source": [
        "cd angr-doc"
      ],
      "execution_count": null,
      "outputs": [
        {
          "output_type": "stream",
          "name": "stdout",
          "text": [
            "/content/angr-doc\n"
          ]
        }
      ]
    },
    {
      "cell_type": "code",
      "metadata": {
        "colab": {
          "base_uri": "https://localhost:8080/"
        },
        "id": "PSVLPGRLrsP5",
        "outputId": "153aac8c-bf0d-4095-c116-83922cff8174"
      },
      "source": [
        "ls"
      ],
      "execution_count": null,
      "outputs": [
        {
          "output_type": "stream",
          "name": "stdout",
          "text": [
            "angr-papers.bib  CHANGELOG.md   \u001b[0m\u001b[01;34mexamples\u001b[0m/      INSTALL.md    README.md\n",
            "\u001b[01;34mapi-doc\u001b[0m/         CHEATSHEET.md  HACKING.md     LICENSE       SUMMARY.md\n",
            "book.json        \u001b[01;34mdocs\u001b[0m/          HELPWANTED.md  MIGRATION.md  \u001b[01;34mtests\u001b[0m/\n"
          ]
        }
      ]
    },
    {
      "cell_type": "code",
      "metadata": {
        "colab": {
          "base_uri": "https://localhost:8080/"
        },
        "id": "xFdcpWsSruZV",
        "outputId": "32fb9674-dd72-485c-d8b5-763fd0747d39"
      },
      "source": [
        "cd examples/"
      ],
      "execution_count": null,
      "outputs": [
        {
          "output_type": "stream",
          "name": "stdout",
          "text": [
            "/content/angr-doc/examples\n"
          ]
        }
      ]
    },
    {
      "cell_type": "code",
      "metadata": {
        "colab": {
          "base_uri": "https://localhost:8080/"
        },
        "id": "CRmymaPnr3dc",
        "outputId": "4d2a3a97-c929-4c80-da98-077edf531c1b"
      },
      "source": [
        "ls"
      ],
      "execution_count": null,
      "outputs": [
        {
          "output_type": "stream",
          "name": "stdout",
          "text": [
            "\u001b[0m\u001b[01;34m0ctf_momo_3\u001b[0m/                     \u001b[01;34mflareon2015_5\u001b[0m/\n",
            "\u001b[01;34m0ctf_trace\u001b[0m/                      \u001b[01;34mgoogle2016_unbreakable_0\u001b[0m/\n",
            "\u001b[01;34m9447_nobranch\u001b[0m/                   \u001b[01;34mgoogle2016_unbreakable_1\u001b[0m/\n",
            "\u001b[01;34mais3_crackme\u001b[0m/                    \u001b[01;34mgrub\u001b[0m/\n",
            "\u001b[01;34mandroid_arm_license_validation\u001b[0m/  \u001b[01;34mhackcon2016_angry-reverser\u001b[0m/\n",
            "\u001b[01;34masisctffinals2015_fake\u001b[0m/          \u001b[01;34mhitcon2017_sakura\u001b[0m/\n",
            "\u001b[01;34masisctffinals2015_license\u001b[0m/       \u001b[01;34mictf2017_javaisnotfun\u001b[0m/\n",
            "\u001b[01;34mb01lersctf2020_little_engine\u001b[0m/    \u001b[01;34minsomnihack_aeg\u001b[0m/\n",
            "\u001b[01;34mCADET_00001\u001b[0m/                     \u001b[01;34mjava_androidnative1\u001b[0m/\n",
            "\u001b[01;34mcmu_binary_bomb\u001b[0m/                 \u001b[01;34mjava_crackme1\u001b[0m/\n",
            "\u001b[01;34mcodegate_2017-angrybird\u001b[0m/         \u001b[01;34mjava_simple3\u001b[0m/\n",
            "\u001b[01;34mcsaw_wyvern\u001b[0m/                     \u001b[01;34mjava_simple4\u001b[0m/\n",
            "\u001b[01;34mCSCI-4968-MBE\u001b[0m/                   \u001b[01;34mmma_howtouse\u001b[0m/\n",
            "\u001b[01;34mcsgames2018\u001b[0m/                     \u001b[01;34mmma_simplehash\u001b[0m/\n",
            "\u001b[01;34mdefcamp_r100\u001b[0m/                    \u001b[01;34msecconquals2016_ropsynth\u001b[0m/\n",
            "\u001b[01;34mdefcamp_r200\u001b[0m/                    \u001b[01;34msecuinside2016mbrainfuzz\u001b[0m/\n",
            "\u001b[01;34mdefcon2016quals_baby-re\u001b[0m/         \u001b[01;34msecurityfest_fairlight\u001b[0m/\n",
            "\u001b[01;34mdefcon2017quals_crackme2000\u001b[0m/     \u001b[01;34msharif7_rev50\u001b[0m/\n",
            "\u001b[01;34mdefcon2019quals_veryandroidoso\u001b[0m/  \u001b[01;34msimple_heap_overflow\u001b[0m/\n",
            "\u001b[01;34mekopartyctf2015_rev100\u001b[0m/          \u001b[01;34mstrcpy_find\u001b[0m/\n",
            "\u001b[01;34mekopartyctf2016_rev250\u001b[0m/          \u001b[01;34msym-write\u001b[0m/\n",
            "\u001b[01;34mekopartyctf2016_sokohashv2\u001b[0m/      \u001b[01;34mtumctf2016_zwiebel\u001b[0m/\n",
            "\u001b[01;34mfauxware\u001b[0m/                        \u001b[01;34munmapped_analysis\u001b[0m/\n",
            "\u001b[01;34mflareon2015_10\u001b[0m/                  \u001b[01;34mwhitehat_crypto400\u001b[0m/\n",
            "\u001b[01;34mflareon2015_2\u001b[0m/                   \u001b[01;34mwhitehatvn2015_re400\u001b[0m/\n"
          ]
        }
      ]
    },
    {
      "cell_type": "code",
      "metadata": {
        "colab": {
          "base_uri": "https://localhost:8080/"
        },
        "id": "I7kXaQBvr7X-",
        "outputId": "27efb3ca-a154-4b3e-cbd1-671d6cbdd6e6"
      },
      "source": [
        "cd ais3_crackme/"
      ],
      "execution_count": null,
      "outputs": [
        {
          "output_type": "stream",
          "name": "stdout",
          "text": [
            "/content/angr-doc/examples/ais3_crackme\n"
          ]
        }
      ]
    },
    {
      "cell_type": "code",
      "metadata": {
        "colab": {
          "base_uri": "https://localhost:8080/"
        },
        "id": "qHO6dd_mr_mK",
        "outputId": "83c77690-9ba4-4308-dacb-903d6bcedd9c"
      },
      "source": [
        "ls"
      ],
      "execution_count": null,
      "outputs": [
        {
          "output_type": "stream",
          "name": "stdout",
          "text": [
            "\u001b[0m\u001b[01;32mais3_crackme\u001b[0m*  \u001b[01;32msolve.py\u001b[0m*\n"
          ]
        }
      ]
    },
    {
      "cell_type": "code",
      "metadata": {
        "colab": {
          "base_uri": "https://localhost:8080/"
        },
        "id": "8iB2jM8lsBNM",
        "outputId": "ffe7af9b-9c11-4368-c152-1aad7721a694"
      },
      "source": [
        "!python3 solve.py"
      ],
      "execution_count": null,
      "outputs": [
        {
          "output_type": "stream",
          "name": "stdout",
          "text": [
            "/usr/local/lib/python3.7/dist-packages/Cython/Compiler/Main.py:369: FutureWarning: Cython directive 'language_level' not set, using 2 for now (Py2). This will change in a later release! File: /usr/local/lib/python3.7/dist-packages/pysmt/smtlib/parser/parser.py\n",
            "  tree = Parsing.p_module(s, pxd, full_module_name)\n",
            "b'ais3{I_tak3_g00d_n0t3s}\\x00\\x00\\x00\\x00\\x00\\x00\\x00\\x00\\x00\\x00\\x00\\x00\\x00\\x00\\x00\\x00\\x00\\x00\\x00\\x00\\x00\\x00\\x00\\x00\\x00\\x00\\x00\\x00\\x00\\x00\\x00\\x00\\x00\\x00\\x00\\x00\\x00\\x00\\x00\\x00\\x00\\x00\\x00\\x00\\x00\\x00\\x00\\x00\\x00\\x00\\x00\\x00\\x00\\x00\\x00\\x00\\x00\\x00\\x00\\x00\\x00\\x00\\x00\\x00\\x00\\x00\\x00\\x00\\x00\\x00\\x00\\x00\\x00\\x00\\x00\\x00\\x00'\n",
            "b'ais3{I_tak3_g00d_n0t3s}'\n",
            "b'ais3{I_tak3_g00d_n0t3s}'\n"
          ]
        }
      ]
    }
  ]
}